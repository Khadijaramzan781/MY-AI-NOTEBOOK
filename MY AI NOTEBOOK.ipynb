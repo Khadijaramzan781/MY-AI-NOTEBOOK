{
 "cells": [
  {
   "cell_type": "raw",
   "id": "8b0490ac-43c6-44b2-9014-56e458e2f0ad",
   "metadata": {},
   "source": [
    "QUESTION 1:\n",
    "PYTHON INTRODUCTION:\n",
    "Python is a versatile, general purpose programming language it is known for its readability and ease of use.\n",
    "\n",
    "PYTHON BASICS:\n",
    "1-STRING\n",
    "string are sequence of character which is enclosed by quotes(\") string are immutable in python.they are fundamental for storing and working with text data."
   ]
  },
  {
   "cell_type": "code",
   "execution_count": null,
   "id": "8cf50499-54f3-4ebf-b91b-d7e7c079d5a4",
   "metadata": {},
   "outputs": [],
   "source": [
    "STRING METHODS\n",
    "*Upper():Converts the string to uppercase\n",
    "lowercase():Converts the string to lowercase\n",
    "strip():removes leading and trailing whitespace"
   ]
  },
  {
   "cell_type": "raw",
   "id": "9fb174eb-7adc-4f7d-9e83-5f2f47ef4fbe",
   "metadata": {},
   "source": [
    "#Creating string in python\n",
    "you can create string in\n",
    "single quotes(')\n",
    "double quotes(\")\n",
    "or triple quotes(\"\"\")"
   ]
  },
  {
   "cell_type": "code",
   "execution_count": 19,
   "id": "18e70033-c95f-4054-8760-4c25726f75ff",
   "metadata": {},
   "outputs": [
    {
     "name": "stdout",
     "output_type": "stream",
     "text": [
      "[2]\n",
      "[-1]\n"
     ]
    }
   ],
   "source": [
    "#accessing characters\n",
    "#string are indexed, starting from (0)\n",
    "name=\"khadeeja\"\n",
    "first_letter=[2]#this will be 'a'\n",
    "last_letter=[-1]#negative indexing start form the end \n",
    "print(first_letter)\n",
    "print(last_letter)"
   ]
  },
  {
   "cell_type": "code",
   "execution_count": 33,
   "id": "ec84af2b-a19c-4b66-9937-c988421d87a0",
   "metadata": {},
   "outputs": [
    {
     "name": "stdout",
     "output_type": "stream",
     "text": [
      "First word: Hello,\n",
      "Last word: world!\n"
     ]
    }
   ],
   "source": [
    "#string slicing\n",
    "# Message to slice\n",
    "message = \"Hello, world!\"\n",
    "\n",
    "# Get the first word (everything before the space)\n",
    "first_word = message[: message.find(\" \")]  \n",
    "\n",
    "# Get the last word (everything after the last space)\n",
    "last_word = message[message.rfind(\" \") + 1:]  \n",
    "\n",
    "# Print the results\n",
    "print(f\"First word: {first_word}\")\n",
    "print(f\"Last word: {last_word}\")"
   ]
  },
  {
   "cell_type": "code",
   "execution_count": 34,
   "id": "201a53fe-772d-4c11-81f0-8db795f81fdd",
   "metadata": {},
   "outputs": [
    {
     "name": "stdout",
     "output_type": "stream",
     "text": [
      "khadeejaRamzan\n"
     ]
    }
   ],
   "source": [
    "#string concatination \n",
    "first_name=\"khadeeja\"\n",
    "last_name=\"Ramzan\"\n",
    "full_name=first_name+\"\"+ last_name\n",
    "print(full_name)"
   ]
  },
  {
   "cell_type": "code",
   "execution_count": 35,
   "id": "26c6fc01-883f-4e73-ae3e-27a1f53ebac3",
   "metadata": {},
   "outputs": [
    {
     "name": "stdout",
     "output_type": "stream",
     "text": [
      "hello, Bob ! you are 30 years old\n"
     ]
    }
   ],
   "source": [
    "#string formatting\n",
    "name=\"Bob\"\n",
    "age=30\n",
    "greeting=f\"hello, {name} ! you are {age} years old\" \n",
    "print(greeting)"
   ]
  },
  {
   "cell_type": "code",
   "execution_count": 36,
   "id": "2c5e5cc9-4767-4c80-89bd-2c3a2b5b9c3c",
   "metadata": {},
   "outputs": [
    {
     "name": "stdout",
     "output_type": "stream",
     "text": [
      "the average is: 73.0\n"
     ]
    }
   ],
   "source": [
    "#WORKING WITH INTEGERS \n",
    "value1=23\n",
    "value2=100\n",
    "average= value1+value2 /2\n",
    "print(\"the average is:\",average)"
   ]
  },
  {
   "cell_type": "code",
   "execution_count": 21,
   "id": "208e09d5-3cad-49fd-a8d7-9bf83c8806b5",
   "metadata": {},
   "outputs": [
    {
     "name": "stdout",
     "output_type": "stream",
     "text": [
      "True\n",
      "False\n"
     ]
    }
   ],
   "source": [
    "#WORKING WITH BOOLEANS\n",
    "booleant= True\n",
    "booleanf= False\n",
    "print(booleant)\n",
    "print(booleanf)"
   ]
  },
  {
   "cell_type": "code",
   "execution_count": 22,
   "id": "121017ef-10f2-4084-860a-8f0d4e99b6d6",
   "metadata": {},
   "outputs": [
    {
     "name": "stdout",
     "output_type": "stream",
     "text": [
      "6570.883999999999\n"
     ]
    }
   ],
   "source": [
    "#WORKING WITH FLOATS\n",
    "area=278.9\n",
    "area2=23.56\n",
    "total_area=278.9*23.56\n",
    "print(total_area)"
   ]
  },
  {
   "cell_type": "code",
   "execution_count": 40,
   "id": "780dd883-3570-4350-9269-4c69c31255c0",
   "metadata": {},
   "outputs": [
    {
     "name": "stdout",
     "output_type": "stream",
     "text": [
      "('apple', 'banana', 'cherry')\n"
     ]
    }
   ],
   "source": [
    "#WORKING WITH TUPLES\n",
    "# Simple tuple with strings\n",
    "fruits = (\"apple\", \"banana\", \"cherry\")\n",
    "\n",
    "# Tuple with mixed data types\n",
    "data = (10, 3.14, True, [\"apple\", \"pie\"])  # List inside a tuple\n",
    "\n",
    "# Tuple with one element (needs a trailing comma)\n",
    "name = (\"Alice\",)  # Without the comma, it would become a string\n",
    "print(fruits)"
   ]
  },
  {
   "cell_type": "code",
   "execution_count": 38,
   "id": "3071d04e-aaaf-458b-8c45-1201bb9efccd",
   "metadata": {},
   "outputs": [
    {
     "name": "stdout",
     "output_type": "stream",
     "text": [
      "{'name': 'khadija', 'age': 20}\n"
     ]
    }
   ],
   "source": [
    "#working with dictionaries\n",
    "dictionary = {'name':'khadija','age': 20}\n",
    "print(dictionary)"
   ]
  },
  {
   "cell_type": "code",
   "execution_count": 25,
   "id": "e2de77db-1b4d-492a-a139-c7f3e2a91f65",
   "metadata": {},
   "outputs": [
    {
     "name": "stdout",
     "output_type": "stream",
     "text": [
      "apple\n",
      "banana\n",
      "cherry\n"
     ]
    }
   ],
   "source": [
    "#for looping\n",
    "fruits=[\"apple\",\"banana\",\"cherry\"]\n",
    "for fruit in fruits:\n",
    "    print(fruit)"
   ]
  },
  {
   "cell_type": "code",
   "execution_count": 26,
   "id": "bf4f02b9-9d6d-4a56-9377-d9f9b673ac81",
   "metadata": {},
   "outputs": [
    {
     "name": "stdout",
     "output_type": "stream",
     "text": [
      "Counting: 1\n",
      "Counting: 2\n",
      "Counting: 3\n",
      "Counting: 4\n",
      "Counting: 5\n",
      "Finished counting!\n"
     ]
    }
   ],
   "source": [
    "#while looping\n",
    "# Initialize a counter variable\n",
    "counter = 1\n",
    "while counter <= 5:\n",
    "  print(f\"Counting: {counter}\")\n",
    "  counter += 1 \n",
    "print(\"Finished counting!\")"
   ]
  },
  {
   "cell_type": "code",
   "execution_count": 27,
   "id": "25594533-d8fb-44ff-afc5-d8fb6a10a5b4",
   "metadata": {},
   "outputs": [
    {
     "name": "stdout",
     "output_type": "stream",
     "text": [
      "Go outside and enjoy the sunshine!\n"
     ]
    }
   ],
   "source": [
    "#conditional statement\n",
    "is_sunny = True  \n",
    "if is_sunny:\n",
    "    print(\"Go outside and enjoy the sunshine!\")\n",
    "else:\n",
    "    print(\"Stay cozy inside with a good book!\")"
   ]
  },
  {
   "cell_type": "code",
   "execution_count": 28,
   "id": "7444448f-b643-491c-9af7-27125d220ee9",
   "metadata": {},
   "outputs": [
    {
     "name": "stdout",
     "output_type": "stream",
     "text": [
      "This car is a red Honda Civic.\n"
     ]
    }
   ],
   "source": [
    "# Create a class called \"Car\"\n",
    "class Car:\n",
    "  def __init__(self, color, model):  \n",
    "    self.color = color\n",
    "    self.model = model\n",
    "\n",
    "  # Define a method (behavior) to describe the car\n",
    "  def describe(self):\n",
    "    print(f\"This car is a {self.color} {self.model}.\")\n",
    "\n",
    "# Create an object (instance) of the Car class\n",
    "my_car = Car(\"red\", \"Honda Civic\")\n",
    "\n",
    "# Call the method of the object to describe it\n",
    "my_car.describe()"
   ]
  },
  {
   "cell_type": "raw",
   "id": "67171678-2cae-41cc-863b-89860b86fa77",
   "metadata": {},
   "source": [
    "Qno 2:NUMPY AND PANDAS\n",
    "why should we use them in python?\n",
    "NumPy arrays are faster and more compact than Python lists. An array consumes less memory and is convenient to use. NumPy uses much less memory to store data and it provides a mechanism of specifying the data types. This allows the code to be optimized even further"
   ]
  },
  {
   "cell_type": "code",
   "execution_count": 29,
   "id": "251710fb-ad9e-48a7-a659-dc8aa4ef0197",
   "metadata": {},
   "outputs": [
    {
     "name": "stdout",
     "output_type": "stream",
     "text": [
      "Original Array: [1 2 3 4 5]\n",
      "Sum of Array Elements: 15\n",
      "Mean of Array Elements: 3.0\n",
      "Standard Deviation of Array Elements: 1.4142135623730951\n"
     ]
    }
   ],
   "source": [
    "# Importing NumPy library\n",
    "import numpy as np\n",
    "\n",
    "# Creating a NumPy array\n",
    "arr = np.array([1, 2, 3, 4, 5])\n",
    "\n",
    "# Printing the array\n",
    "print(\"Original Array:\", arr)\n",
    "\n",
    "# Performing some operations on the array\n",
    "print(\"Sum of Array Elements:\", np.sum(arr))\n",
    "print(\"Mean of Array Elements:\", np.mean(arr))\n",
    "print(\"Standard Deviation of Array Elements:\", np.std(arr))"
   ]
  },
  {
   "cell_type": "code",
   "execution_count": 30,
   "id": "61fa3f75-04f7-427d-89ab-a441f6d08584",
   "metadata": {},
   "outputs": [
    {
     "name": "stdout",
     "output_type": "stream",
     "text": [
      "[1 2 3 4 5]\n",
      "(5,)\n",
      "1\n",
      "[2 3 4]\n",
      "float64\n",
      "[ 2  4  6  8 10]\n",
      "[1. 2. 3. 4. 5. 0. 0. 0. 0. 0.]\n"
     ]
    }
   ],
   "source": [
    "\n",
    "import numpy as np\n",
    "# Create a NumPy array\n",
    "arr = np.array([1, 2, 3, 4, 5])\n",
    "print(arr)  # Output: [1 2 3 4 5]\n",
    "\n",
    "# Array shape (dimensions)\n",
    "print(arr.shape)  # Output: (5,) (one-dimensional array)\n",
    "\n",
    "# Accessing elements\n",
    "first_element = arr[0]\n",
    "print(first_element)  # Output: 1\n",
    "\n",
    "# Slicing (extracting sub-arrays)\n",
    "sub_arr = arr[1:4]  # From index 1 (inclusive) to 4 (exclusive)\n",
    "print(sub_arr)  # Output: [2 3 4]\n",
    "\n",
    "# Array creation with specific data types\n",
    "float_arr = np.array([1.5, 2.3, 4.2], dtype=float)\n",
    "print(float_arr.dtype)  # Output: float64\n",
    "\n",
    "# Mathematical operations (element-wise)\n",
    "doubled_arr = arr * 2\n",
    "print(doubled_arr)  # Output: [2 4 6 8 10]\n",
    "\n",
    "# Other array creation methods\n",
    "zeros_arr = np.zeros(5)  # Create an array of 5 zeros\n",
    "ones_arr = np.ones((2, 3))  # Create a 2x3 array of ones\n",
    "random_arr = np.random.rand(4)  # Create a random array of size 4 (between 0 and 1)\n",
    "\n",
    "# Array concatenation\n",
    "combined_arr = np.concatenate((arr, zeros_arr))\n",
    "print(combined_arr) "
   ]
  },
  {
   "cell_type": "raw",
   "id": "ad4fd312-936f-46b6-bd40-bc0e785f8dcc",
   "metadata": {},
   "source": [
    "What kind of data does pandas handle?\n",
    "When working with tabular data, such as data stored in spreadsheets or databases, pandas is the right tool for you. pandas will help you to explore, clean, and process your data. In pandas, a data table is called a DataFrame.\n",
    "\n",
    "How do I read and write tabular data?\n",
    "pandas supports the integration with many file formats or data sources out of the box (csv, excel, sql, json, parquet,…). Importing data from each of these data sources is provided by function with the prefix read_. Similarly, the to_ methods are used to store data.\n",
    "\n",
    "Why Use Pandas?\n",
    "Pandas is used for data manipulation and analysis, offering powerful data structures and tools for working with structured data.\n",
    "\n",
    "1.DataFrame:\n",
    "Pandas provides a DataFrame object, which is a 2-dimensional labeled data structure with columns of potentially different types. It's similar to a spreadsheet or SQL table, making it easy to handle tabular data.\n",
    "\n",
    "2.Data Cleaning:\n",
    "Pandas offers functions and methods for data cleaning tasks such as handling missing data, removing duplicates, and transforming data into the desired format. \n",
    "\n",
    "3.Data Manipulation:\n",
    "It allows for easy manipulation of data, including filtering, selecting, grouping, aggregating, merging, and reshaping data.\n",
    "\n",
    "4.Data Analysis:\n",
    "Pandas provides statistical functions for data analysis, including descriptive statistics, correlation analysis, and time-series analysis.\n",
    "\n",
    "5.Integration with Other Libraries:\n",
    "Pandas integrates well with other Python libraries such as NumPy, Matplotlib, and scikit-learn, providing a powerful ecosystem for data analysis and machine learning.\n",
    "Overall, Pandas simplifies the process of working with structured data in Python and is widely used in data science, machine learning, and data analysis projects.\n",
    "                                                          "
   ]
  },
  {
   "cell_type": "code",
   "execution_count": 31,
   "id": "0345a756-2322-49b6-90bc-c612de304133",
   "metadata": {},
   "outputs": [
    {
     "name": "stdout",
     "output_type": "stream",
     "text": [
      "           Name  Age      city\n",
      "0    Babar Azam   30    lahore\n",
      "1       Shahdab   30    lahore\n",
      "2  Shaheen Shah   25  peshawar\n"
     ]
    }
   ],
   "source": [
    "import pandas as pd\n",
    "# Creating a DataFrame:\n",
    "data = {'Name': ['Babar Azam', 'Shahdab', 'Shaheen Shah'],\n",
    "        'Age': [30, 30, 25],\n",
    "        \"city\": ['lahore','lahore','peshawar']}\n",
    "df = pd.DataFrame(data)\n",
    "print(df)\n",
    "df.to_csv(\"CricketersInfo.csv\")"
   ]
  },
  {
   "cell_type": "code",
   "execution_count": null,
   "id": "79902110-098e-40b4-970f-db13e65b2e57",
   "metadata": {},
   "outputs": [],
   "source": [
    "import pandas as pd\n",
    "\n",
    "df=pd.read_csv(\"phishing.csv\",sep=\",\")\n",
    "print("
   ]
  },
  {
   "cell_type": "code",
   "execution_count": null,
   "id": "d43a0cc9-4903-4f10-9ac6-8a91e91fea9d",
   "metadata": {},
   "outputs": [],
   "source": [
    "# Reading Data from CSV File:\n",
    "import pandas as pd\n",
    "df = pd.read_csv('')\n"
   ]
  },
  {
   "cell_type": "code",
   "execution_count": null,
   "id": "bff3fc61-93c9-435d-a091-08058b5f0524",
   "metadata": {},
   "outputs": [],
   "source": [
    "import pandas as pd\n",
    "df= pd.read_csv('phishing.csv')"
   ]
  },
  {
   "cell_type": "code",
   "execution_count": 51,
   "id": "388cd790-2423-4956-bcb5-b9039370474d",
   "metadata": {},
   "outputs": [
    {
     "data": {
      "text/html": [
       "<div>\n",
       "<style scoped>\n",
       "    .dataframe tbody tr th:only-of-type {\n",
       "        vertical-align: middle;\n",
       "    }\n",
       "\n",
       "    .dataframe tbody tr th {\n",
       "        vertical-align: top;\n",
       "    }\n",
       "\n",
       "    .dataframe thead th {\n",
       "        text-align: right;\n",
       "    }\n",
       "</style>\n",
       "<table border=\"1\" class=\"dataframe\">\n",
       "  <thead>\n",
       "    <tr style=\"text-align: right;\">\n",
       "      <th></th>\n",
       "      <th>Name</th>\n",
       "      <th>Age</th>\n",
       "      <th>city</th>\n",
       "    </tr>\n",
       "  </thead>\n",
       "  <tbody>\n",
       "    <tr>\n",
       "      <th>0</th>\n",
       "      <td>Babar Azam</td>\n",
       "      <td>30</td>\n",
       "      <td>lahore</td>\n",
       "    </tr>\n",
       "    <tr>\n",
       "      <th>1</th>\n",
       "      <td>Shahdab</td>\n",
       "      <td>30</td>\n",
       "      <td>lahore</td>\n",
       "    </tr>\n",
       "    <tr>\n",
       "      <th>2</th>\n",
       "      <td>Shaheen Shah</td>\n",
       "      <td>25</td>\n",
       "      <td>peshawar</td>\n",
       "    </tr>\n",
       "  </tbody>\n",
       "</table>\n",
       "</div>"
      ],
      "text/plain": [
       "           Name  Age      city\n",
       "0    Babar Azam   30    lahore\n",
       "1       Shahdab   30    lahore\n",
       "2  Shaheen Shah   25  peshawar"
      ]
     },
     "execution_count": 51,
     "metadata": {},
     "output_type": "execute_result"
    }
   ],
   "source": [
    "df.head()"
   ]
  },
  {
   "cell_type": "code",
   "execution_count": null,
   "id": "a20a117d-b5cf-4195-a48a-c96eb127dae0",
   "metadata": {},
   "outputs": [],
   "source": [
    "import pandas as pd\n",
    "df=pd.read_csv('CloudWatch_Web_Attack.csv')\n",
    "df.head()"
   ]
  },
  {
   "cell_type": "raw",
   "id": "9ed93d44-b1bc-4278-90f7-2068d3349660",
   "metadata": {},
   "source": [
    "  work_year experience_level employment_type               job_title  salary  \\\n",
    "0       2022               EN              FT   Cyber Program Manager   63000   \n",
    "1       2022               MI              FT        Security Analyst   95000   \n",
    "2       2022               MI              FT        Security Analyst   70000   \n",
    "3       2022               MI              FT     IT Security Analyst  250000   \n",
    "4       2022               EN              CT  Cyber Security Analyst  120000   \n",
    "\n",
    "  salary_currency  salary_in_usd employee_residence  remote_ratio  \\\n",
    "0             USD          63000                 US            50   \n",
    "1             USD          95000                 US             0   \n",
    "2             USD          70000                 US             0   \n",
    "3             BRL          48853                 BR            50   \n",
    "4             USD         120000                 BW           100   \n",
    "\n",
    "  company_location company_size  \n",
    "0               US            S  \n",
    "1               US            M  \n",
    "2               US            M  \n",
    "3               BR            L  \n",
    "4               BW            S "
   ]
  },
  {
   "cell_type": "raw",
   "id": "a40d2c8e-8c45-4cc0-88f2-0cab2cc314f4",
   "metadata": {},
   "source": [
    "      work_year experience_level employment_type  \\\n",
    "1242       2020               MI              FT   \n",
    "1243       2021               SE              FT   \n",
    "1244       2021               SE              FT   \n",
    "1245       2021               MI              FT   \n",
    "1246       2021               MI              FT   \n",
    "\n",
    "                         job_title  salary salary_currency  salary_in_usd  \\\n",
    "1242        Cyber Security Analyst  140000             AUD          96422   \n",
    "1243  Information Security Manager   60000             GBP          82528   \n",
    "1244  Penetration Testing Engineer  126000             USD         126000   \n",
    "1245  Information Security Analyst   42000             GBP          57769   \n",
    "1246   Threat Intelligence Analyst   66310             USD          66310   \n",
    "\n",
    "     employee_residence  remote_ratio company_location company_size  \n",
    "1242                 AU            50               AU            M  \n",
    "1243                 GB            50               GB            L  \n",
    "1244                 US           100               US            L  \n",
    "1245                 GB           100               GB            L  \n",
    "1246                 US             0               US            L "
   ]
  },
  {
   "cell_type": "code",
   "execution_count": null,
   "id": "48d92c05-b7ac-40c4-8878-1cbdec2e9fc8",
   "metadata": {},
   "outputs": [],
   "source": [
    "# Basic DataFrame Operations:\n",
    "print(df.shape)\n",
    "print(df.columns)\n",
    "print(df.describe())\n",
    "print(df['job_title'])"
   ]
  },
  {
   "cell_type": "raw",
   "id": "d1e94ba7-17d2-4370-a91e-1832e2bebccf",
   "metadata": {},
   "source": [
    "(1247, 11)\n",
    "Index(['work_year', 'experience_level', 'employment_type', 'job_title',\n",
    "       'salary', 'salary_currency', 'salary_in_usd', 'employee_residence',\n",
    "       'remote_ratio', 'company_location', 'company_size'],\n",
    "      dtype='object')\n",
    "         work_year        salary  salary_in_usd  remote_ratio\n",
    "count  1247.000000  1.247000e+03    1247.000000   1247.000000\n",
    "mean   2021.316760  5.608525e+05  120278.218925     71.491580\n",
    "std       0.715501  1.415944e+07   70291.394942     39.346851\n",
    "min    2020.000000  1.740000e+03    2000.000000      0.000000\n",
    "25%    2021.000000  7.975450e+04   74594.500000     50.000000\n",
    "50%    2021.000000  1.200000e+05  110000.000000    100.000000\n",
    "75%    2022.000000  1.600800e+05  150000.000000    100.000000\n",
    "max    2022.000000  5.000000e+08  910991.000000    100.000000\n",
    "0              Cyber Program Manager\n",
    "1                   Security Analyst\n",
    "2                   Security Analyst\n",
    "3                IT Security Analyst\n",
    "4             Cyber Security Analyst\n",
    "                    ...             \n",
    "1242          Cyber Security Analyst\n",
    "1243    Information Security Manager\n",
    "1244    Penetration Testing Engineer\n",
    "1245    Information Security Analyst\n",
    "1246     Threat Intelligence Analyst\n",
    "Name: job_title, Length: 1247, dtype: object"
   ]
  },
  {
   "cell_type": "code",
   "execution_count": null,
   "id": "bca2cbf1-8a36-4a4c-b586-fb1edc49f814",
   "metadata": {},
   "outputs": [],
   "source": [
    "Country Code Mapping\n",
    "# Reading Data from CSV File:\n",
    "df1 = pd.read_csv('Country-Code-Mapping.csv')\n",
    "print(df1.head())"
   ]
  },
  {
   "cell_type": "raw",
   "id": "ef24dafa-c91c-4f1a-af3a-d21f2ccf2d28",
   "metadata": {},
   "source": [
    "   Value           Label\n",
    "0      4     Afghanistan\n",
    "1      6         Albania\n",
    "2      7         Algeria\n",
    "3      8  American Samoa\n",
    "4      9         Andorra"
   ]
  },
  {
   "cell_type": "raw",
   "id": "6ef15507-a55b-4128-86c1-0b367c5d1f1b",
   "metadata": {},
   "source": [
    "     Value       Label\n",
    "147    171  Uzbekistan\n",
    "148    172   Venezuela\n",
    "149    173     Vietnam\n",
    "150    174       Yemen\n",
    "151    175    Zimbabw"
   ]
  },
  {
   "cell_type": "raw",
   "id": "08f8cf42-271f-4f4b-b899-7c7a498f8214",
   "metadata": {},
   "source": [
    "(152, 2)\n",
    "Index(['Value', 'Label'], dtype='object')\n",
    "            Value\n",
    "count  152.000000\n",
    "mean    88.605263\n",
    "std     50.131504\n",
    "min      4.000000\n",
    "25%     44.750000\n",
    "50%     87.500000\n",
    "75%    132.500000\n",
    "max    175.000000\n",
    "0         Afghanistan\n",
    "1             Albania\n",
    "2             Algeria\n",
    "3      American Samoa\n",
    "4             Andorra\n",
    "            ...      \n",
    "147        Uzbekistan\n",
    "148         Venezuela\n",
    "149           Vietnam\n",
    "150             Yemen\n",
    "151          Zimbabwe\n",
    "Name: Label, Length: 152, dtype: object"
   ]
  }
 ],
 "metadata": {
  "kernelspec": {
   "display_name": "Python 3 (ipykernel)",
   "language": "python",
   "name": "python3"
  },
  "language_info": {
   "codemirror_mode": {
    "name": "ipython",
    "version": 3
   },
   "file_extension": ".py",
   "mimetype": "text/x-python",
   "name": "python",
   "nbconvert_exporter": "python",
   "pygments_lexer": "ipython3",
   "version": "3.12.2"
  }
 },
 "nbformat": 4,
 "nbformat_minor": 5
}
